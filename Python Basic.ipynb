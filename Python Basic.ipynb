{
 "cells": [
  {
   "cell_type": "markdown",
   "id": "76d1e94d",
   "metadata": {},
   "source": [
    "# Datatypes in python\n",
    "\n",
    "## Numbers"
   ]
  },
  {
   "cell_type": "code",
   "execution_count": 57,
   "id": "7481f9b4",
   "metadata": {},
   "outputs": [
    {
     "data": {
      "text/plain": [
       "2"
      ]
     },
     "execution_count": 57,
     "metadata": {},
     "output_type": "execute_result"
    }
   ],
   "source": [
    "1+1"
   ]
  },
  {
   "cell_type": "code",
   "execution_count": 3,
   "id": "180be1fc",
   "metadata": {},
   "outputs": [
    {
     "data": {
      "text/plain": [
       "20"
      ]
     },
     "execution_count": 3,
     "metadata": {},
     "output_type": "execute_result"
    }
   ],
   "source": [
    "4*5"
   ]
  },
  {
   "cell_type": "code",
   "execution_count": 4,
   "id": "11e6cba6",
   "metadata": {},
   "outputs": [
    {
     "data": {
      "text/plain": [
       "20"
      ]
     },
     "execution_count": 4,
     "metadata": {},
     "output_type": "execute_result"
    }
   ],
   "source": [
    "2*10"
   ]
  },
  {
   "cell_type": "code",
   "execution_count": 7,
   "id": "fd28c73a",
   "metadata": {},
   "outputs": [
    {
     "data": {
      "text/plain": [
       "5.0"
      ]
     },
     "execution_count": 7,
     "metadata": {},
     "output_type": "execute_result"
    }
   ],
   "source": [
    "10/2"
   ]
  },
  {
   "cell_type": "code",
   "execution_count": 8,
   "id": "42deca8d",
   "metadata": {},
   "outputs": [
    {
     "data": {
      "text/plain": [
       "0"
      ]
     },
     "execution_count": 8,
     "metadata": {},
     "output_type": "execute_result"
    }
   ],
   "source": [
    "10%2"
   ]
  },
  {
   "cell_type": "code",
   "execution_count": 9,
   "id": "4b06b347",
   "metadata": {},
   "outputs": [
    {
     "data": {
      "text/plain": [
       "100"
      ]
     },
     "execution_count": 9,
     "metadata": {},
     "output_type": "execute_result"
    }
   ],
   "source": [
    "10**2\n"
   ]
  },
  {
   "cell_type": "markdown",
   "id": "8feba30f",
   "metadata": {},
   "source": [
    "## String"
   ]
  },
  {
   "cell_type": "code",
   "execution_count": 21,
   "id": "bf415681",
   "metadata": {},
   "outputs": [
    {
     "data": {
      "text/plain": [
       "'Hello'"
      ]
     },
     "execution_count": 21,
     "metadata": {},
     "output_type": "execute_result"
    }
   ],
   "source": [
    "\"Hello\""
   ]
  },
  {
   "cell_type": "code",
   "execution_count": 24,
   "id": "a56da0fe",
   "metadata": {},
   "outputs": [
    {
     "data": {
      "text/plain": [
       "str"
      ]
     },
     "execution_count": 24,
     "metadata": {},
     "output_type": "execute_result"
    }
   ],
   "source": [
    "type('Hello')"
   ]
  },
  {
   "cell_type": "code",
   "execution_count": 23,
   "id": "d693bed2",
   "metadata": {},
   "outputs": [
    {
     "data": {
      "text/plain": [
       "str"
      ]
     },
     "execution_count": 23,
     "metadata": {},
     "output_type": "execute_result"
    }
   ],
   "source": [
    "type(\"Hello\")"
   ]
  },
  {
   "cell_type": "markdown",
   "id": "e3cd8587",
   "metadata": {},
   "source": [
    "# Number and strings"
   ]
  },
  {
   "cell_type": "code",
   "execution_count": 10,
   "id": "f4856df6",
   "metadata": {},
   "outputs": [
    {
     "data": {
      "text/plain": [
       "'strstrstrstrstrstrstrstrstrstr'"
      ]
     },
     "execution_count": 10,
     "metadata": {},
     "output_type": "execute_result"
    }
   ],
   "source": [
    "10*'str'"
   ]
  },
  {
   "cell_type": "code",
   "execution_count": 13,
   "id": "570e3641",
   "metadata": {},
   "outputs": [
    {
     "data": {
      "text/plain": [
       "'strstrstrstrstrstrstrstrstrstrstrstrstrstrstrstrstrstrstrstr'"
      ]
     },
     "execution_count": 13,
     "metadata": {},
     "output_type": "execute_result"
    }
   ],
   "source": [
    "20*'str'"
   ]
  },
  {
   "cell_type": "markdown",
   "id": "3cfd75e3",
   "metadata": {},
   "source": [
    "## Check datatypes"
   ]
  },
  {
   "cell_type": "code",
   "execution_count": 14,
   "id": "53c51089",
   "metadata": {},
   "outputs": [
    {
     "data": {
      "text/plain": [
       "int"
      ]
     },
     "execution_count": 14,
     "metadata": {},
     "output_type": "execute_result"
    }
   ],
   "source": [
    "type(2)"
   ]
  },
  {
   "cell_type": "code",
   "execution_count": 16,
   "id": "4a51ef08",
   "metadata": {},
   "outputs": [
    {
     "data": {
      "text/plain": [
       "str"
      ]
     },
     "execution_count": 16,
     "metadata": {},
     "output_type": "execute_result"
    }
   ],
   "source": [
    "type('str')"
   ]
  },
  {
   "cell_type": "code",
   "execution_count": 17,
   "id": "1413ca97",
   "metadata": {},
   "outputs": [
    {
     "data": {
      "text/plain": [
       "bool"
      ]
     },
     "execution_count": 17,
     "metadata": {},
     "output_type": "execute_result"
    }
   ],
   "source": [
    "type(True)"
   ]
  },
  {
   "cell_type": "code",
   "execution_count": 19,
   "id": "4f85dfef",
   "metadata": {},
   "outputs": [
    {
     "data": {
      "text/plain": [
       "str"
      ]
     },
     "execution_count": 19,
     "metadata": {},
     "output_type": "execute_result"
    }
   ],
   "source": [
    "type('True')"
   ]
  },
  {
   "cell_type": "code",
   "execution_count": 20,
   "id": "2898b368",
   "metadata": {},
   "outputs": [
    {
     "data": {
      "text/plain": [
       "float"
      ]
     },
     "execution_count": 20,
     "metadata": {},
     "output_type": "execute_result"
    }
   ],
   "source": [
    "type(10.3)"
   ]
  },
  {
   "cell_type": "markdown",
   "id": "6509139c",
   "metadata": {},
   "source": [
    "## Variable assignment"
   ]
  },
  {
   "cell_type": "code",
   "execution_count": 34,
   "id": "2f8d08e0",
   "metadata": {},
   "outputs": [],
   "source": [
    "#syntax\n",
    "# variable name = value\n",
    "\n",
    "a = 10"
   ]
  },
  {
   "cell_type": "code",
   "execution_count": 35,
   "id": "c47a1293",
   "metadata": {},
   "outputs": [
    {
     "data": {
      "text/plain": [
       "int"
      ]
     },
     "execution_count": 35,
     "metadata": {},
     "output_type": "execute_result"
    }
   ],
   "source": [
    "type(a)"
   ]
  },
  {
   "cell_type": "code",
   "execution_count": 38,
   "id": "aeb00700",
   "metadata": {},
   "outputs": [],
   "source": [
    "a = \"Hello\""
   ]
  },
  {
   "cell_type": "code",
   "execution_count": 39,
   "id": "47a24732",
   "metadata": {},
   "outputs": [
    {
     "data": {
      "text/plain": [
       "str"
      ]
     },
     "execution_count": 39,
     "metadata": {},
     "output_type": "execute_result"
    }
   ],
   "source": [
    "type(a)"
   ]
  },
  {
   "cell_type": "code",
   "execution_count": 40,
   "id": "927b469d",
   "metadata": {},
   "outputs": [],
   "source": [
    "# calculationas using variables"
   ]
  },
  {
   "cell_type": "code",
   "execution_count": 41,
   "id": "221895fa",
   "metadata": {},
   "outputs": [],
   "source": [
    "a= 10"
   ]
  },
  {
   "cell_type": "code",
   "execution_count": 42,
   "id": "a7f76fd2",
   "metadata": {},
   "outputs": [],
   "source": [
    "b= 10"
   ]
  },
  {
   "cell_type": "code",
   "execution_count": 43,
   "id": "3c66e146",
   "metadata": {},
   "outputs": [
    {
     "name": "stdout",
     "output_type": "stream",
     "text": [
      "100\n"
     ]
    }
   ],
   "source": [
    "print(a*b)"
   ]
  },
  {
   "cell_type": "code",
   "execution_count": 47,
   "id": "5b4676a5",
   "metadata": {},
   "outputs": [
    {
     "name": "stdout",
     "output_type": "stream",
     "text": [
      "101.0\n"
     ]
    }
   ],
   "source": [
    "print((a*b)+(a/b)) ## BODMAS rule"
   ]
  },
  {
   "cell_type": "markdown",
   "id": "ab8a4b45",
   "metadata": {},
   "source": [
    "## Various ways of printing"
   ]
  },
  {
   "cell_type": "code",
   "execution_count": 48,
   "id": "9b457c56",
   "metadata": {},
   "outputs": [
    {
     "name": "stdout",
     "output_type": "stream",
     "text": [
      "Hello\n"
     ]
    }
   ],
   "source": [
    "print('Hello')"
   ]
  },
  {
   "cell_type": "code",
   "execution_count": 51,
   "id": "65411c5e",
   "metadata": {},
   "outputs": [],
   "source": [
    "a = 'Mayank'\n",
    "b = 'Singla'"
   ]
  },
  {
   "cell_type": "code",
   "execution_count": 53,
   "id": "3bd97592",
   "metadata": {},
   "outputs": [
    {
     "name": "stdout",
     "output_type": "stream",
     "text": [
      "My first name is Mayank and last name is Singla\n"
     ]
    }
   ],
   "source": [
    "print('My first name is {} and last name is {}'.format(a,b))"
   ]
  },
  {
   "cell_type": "code",
   "execution_count": 54,
   "id": "661e63cc",
   "metadata": {},
   "outputs": [
    {
     "name": "stdout",
     "output_type": "stream",
     "text": [
      "My first name is Mayank and last name is Singla\n"
     ]
    }
   ],
   "source": [
    "print(\"My first name is {first} and last name is {last}\".format(first=a, last=b))"
   ]
  },
  {
   "cell_type": "code",
   "execution_count": 58,
   "id": "da4f5dea",
   "metadata": {},
   "outputs": [
    {
     "data": {
      "text/plain": [
       "6"
      ]
     },
     "execution_count": 58,
     "metadata": {},
     "output_type": "execute_result"
    }
   ],
   "source": [
    "len(a)"
   ]
  },
  {
   "cell_type": "code",
   "execution_count": 59,
   "id": "308bf126",
   "metadata": {},
   "outputs": [
    {
     "data": {
      "text/plain": [
       "6"
      ]
     },
     "execution_count": 59,
     "metadata": {},
     "output_type": "execute_result"
    }
   ],
   "source": [
    "len('mayank')"
   ]
  },
  {
   "cell_type": "code",
   "execution_count": 61,
   "id": "16b98a68",
   "metadata": {},
   "outputs": [
    {
     "data": {
      "text/plain": [
       "list"
      ]
     },
     "execution_count": 61,
     "metadata": {},
     "output_type": "execute_result"
    }
   ],
   "source": [
    "type([1,2])"
   ]
  },
  {
   "cell_type": "markdown",
   "id": "9e668c27",
   "metadata": {},
   "source": [
    "# Python data structures and Boolean"
   ]
  },
  {
   "cell_type": "code",
   "execution_count": 62,
   "id": "86942971",
   "metadata": {},
   "outputs": [
    {
     "data": {
      "text/plain": [
       "False"
      ]
     },
     "execution_count": 62,
     "metadata": {},
     "output_type": "execute_result"
    }
   ],
   "source": [
    "bool()"
   ]
  },
  {
   "cell_type": "code",
   "execution_count": 63,
   "id": "14e1ff4d",
   "metadata": {},
   "outputs": [
    {
     "data": {
      "text/plain": [
       "True"
      ]
     },
     "execution_count": 63,
     "metadata": {},
     "output_type": "execute_result"
    }
   ],
   "source": [
    "True\n"
   ]
  },
  {
   "cell_type": "code",
   "execution_count": 64,
   "id": "6461644f",
   "metadata": {},
   "outputs": [
    {
     "data": {
      "text/plain": [
       "bool"
      ]
     },
     "execution_count": 64,
     "metadata": {},
     "output_type": "execute_result"
    }
   ],
   "source": [
    "type(False)"
   ]
  },
  {
   "cell_type": "code",
   "execution_count": 65,
   "id": "99911657",
   "metadata": {},
   "outputs": [],
   "source": [
    "str=\"Mayank Singla\""
   ]
  },
  {
   "cell_type": "code",
   "execution_count": 70,
   "id": "255af10b",
   "metadata": {},
   "outputs": [
    {
     "name": "stdout",
     "output_type": "stream",
     "text": [
      "False\n"
     ]
    }
   ],
   "source": [
    "print(str.isalnum())"
   ]
  },
  {
   "cell_type": "code",
   "execution_count": 71,
   "id": "46c242f4",
   "metadata": {},
   "outputs": [
    {
     "data": {
      "text/plain": [
       "False"
      ]
     },
     "execution_count": 71,
     "metadata": {},
     "output_type": "execute_result"
    }
   ],
   "source": [
    "str.isalnum()"
   ]
  },
  {
   "cell_type": "code",
   "execution_count": 72,
   "id": "70211a62",
   "metadata": {},
   "outputs": [
    {
     "data": {
      "text/plain": [
       "True"
      ]
     },
     "execution_count": 72,
     "metadata": {},
     "output_type": "execute_result"
    }
   ],
   "source": [
    "str.endswith('a')"
   ]
  },
  {
   "cell_type": "code",
   "execution_count": 73,
   "id": "90300dcf",
   "metadata": {},
   "outputs": [
    {
     "data": {
      "text/plain": [
       "False"
      ]
     },
     "execution_count": 73,
     "metadata": {},
     "output_type": "execute_result"
    }
   ],
   "source": [
    "str.startswith(\"a\")"
   ]
  },
  {
   "cell_type": "code",
   "execution_count": 76,
   "id": "382d08ba",
   "metadata": {},
   "outputs": [
    {
     "data": {
      "text/plain": [
       "True"
      ]
     },
     "execution_count": 76,
     "metadata": {},
     "output_type": "execute_result"
    }
   ],
   "source": [
    "str.startswith(\"M\")"
   ]
  },
  {
   "cell_type": "markdown",
   "id": "9359a200",
   "metadata": {},
   "source": [
    "## BOOLEAN AND LOGICAL OPERATORS"
   ]
  },
  {
   "cell_type": "code",
   "execution_count": 77,
   "id": "30610d06",
   "metadata": {},
   "outputs": [
    {
     "data": {
      "text/plain": [
       "True"
      ]
     },
     "execution_count": 77,
     "metadata": {},
     "output_type": "execute_result"
    }
   ],
   "source": [
    "True and True"
   ]
  },
  {
   "cell_type": "code",
   "execution_count": 79,
   "id": "fd3c2b60",
   "metadata": {},
   "outputs": [
    {
     "data": {
      "text/plain": [
       "False"
      ]
     },
     "execution_count": 79,
     "metadata": {},
     "output_type": "execute_result"
    }
   ],
   "source": [
    "True and False"
   ]
  },
  {
   "cell_type": "code",
   "execution_count": 81,
   "id": "9e5051ee",
   "metadata": {},
   "outputs": [
    {
     "data": {
      "text/plain": [
       "False"
      ]
     },
     "execution_count": 81,
     "metadata": {},
     "output_type": "execute_result"
    }
   ],
   "source": [
    "False and False"
   ]
  },
  {
   "cell_type": "code",
   "execution_count": 82,
   "id": "c23d614f",
   "metadata": {},
   "outputs": [
    {
     "data": {
      "text/plain": [
       "True"
      ]
     },
     "execution_count": 82,
     "metadata": {},
     "output_type": "execute_result"
    }
   ],
   "source": [
    "True or False"
   ]
  },
  {
   "cell_type": "code",
   "execution_count": 83,
   "id": "1e5f5142",
   "metadata": {},
   "outputs": [
    {
     "data": {
      "text/plain": [
       "False"
      ]
     },
     "execution_count": 83,
     "metadata": {},
     "output_type": "execute_result"
    }
   ],
   "source": [
    "False or False"
   ]
  },
  {
   "cell_type": "code",
   "execution_count": 84,
   "id": "14cb634e",
   "metadata": {},
   "outputs": [
    {
     "data": {
      "text/plain": [
       "True"
      ]
     },
     "execution_count": 84,
     "metadata": {},
     "output_type": "execute_result"
    }
   ],
   "source": [
    "True or True"
   ]
  },
  {
   "cell_type": "code",
   "execution_count": 99,
   "id": "98dee94c",
   "metadata": {},
   "outputs": [
    {
     "name": "stdout",
     "output_type": "stream",
     "text": [
      "Mayank Singla\n"
     ]
    }
   ],
   "source": [
    "str = \"HelloWorld\"\n",
    "strl = \"Mayank Singla\"\n",
    "print(strl)"
   ]
  },
  {
   "cell_type": "code",
   "execution_count": 100,
   "id": "292adb3c",
   "metadata": {},
   "outputs": [
    {
     "data": {
      "text/plain": [
       "True"
      ]
     },
     "execution_count": 100,
     "metadata": {},
     "output_type": "execute_result"
    }
   ],
   "source": [
    "str.isalpha() or strl.isalnum()"
   ]
  },
  {
   "cell_type": "markdown",
   "id": "66f26512",
   "metadata": {},
   "source": [
    "## Lists\n"
   ]
  },
  {
   "cell_type": "code",
   "execution_count": 131,
   "id": "483290c1",
   "metadata": {},
   "outputs": [
    {
     "data": {
      "text/plain": [
       "list"
      ]
     },
     "execution_count": 131,
     "metadata": {},
     "output_type": "execute_result"
    }
   ],
   "source": [
    "type([])"
   ]
  },
  {
   "cell_type": "code",
   "execution_count": 132,
   "id": "a7259e52",
   "metadata": {},
   "outputs": [],
   "source": [
    "list = []"
   ]
  },
  {
   "cell_type": "code",
   "execution_count": 133,
   "id": "d211a4fd",
   "metadata": {},
   "outputs": [
    {
     "data": {
      "text/plain": [
       "list"
      ]
     },
     "execution_count": 133,
     "metadata": {},
     "output_type": "execute_result"
    }
   ],
   "source": [
    "type(list)"
   ]
  },
  {
   "cell_type": "code",
   "execution_count": 134,
   "id": "c5f5cafe",
   "metadata": {},
   "outputs": [
    {
     "ename": "TypeError",
     "evalue": "'list' object is not callable",
     "output_type": "error",
     "traceback": [
      "\u001b[0;31m---------------------------------------------------------------------------\u001b[0m",
      "\u001b[0;31mTypeError\u001b[0m                                 Traceback (most recent call last)",
      "Cell \u001b[0;32mIn[134], line 1\u001b[0m\n\u001b[0;32m----> 1\u001b[0m lst\u001b[38;5;241m=\u001b[39m\u001b[38;5;28mlist\u001b[39m()\n",
      "\u001b[0;31mTypeError\u001b[0m: 'list' object is not callable"
     ]
    }
   ],
   "source": [
    "lst=list()"
   ]
  },
  {
   "cell_type": "code",
   "execution_count": 135,
   "id": "48298fee",
   "metadata": {},
   "outputs": [],
   "source": [
    "list = ['Mayank','Singla','Megha','Sharma',1,2,3]"
   ]
  },
  {
   "cell_type": "code",
   "execution_count": 136,
   "id": "b2bd1353",
   "metadata": {},
   "outputs": [
    {
     "data": {
      "text/plain": [
       "list"
      ]
     },
     "execution_count": 136,
     "metadata": {},
     "output_type": "execute_result"
    }
   ],
   "source": [
    "type(list)"
   ]
  },
  {
   "cell_type": "code",
   "execution_count": 137,
   "id": "dd9e4ae7",
   "metadata": {},
   "outputs": [
    {
     "name": "stdout",
     "output_type": "stream",
     "text": [
      "['Mayank', 'Singla', 'Megha', 'Sharma', 1, 2, 3]\n"
     ]
    }
   ],
   "source": [
    "print(list)"
   ]
  },
  {
   "cell_type": "code",
   "execution_count": 138,
   "id": "6ce23d57",
   "metadata": {},
   "outputs": [
    {
     "data": {
      "text/plain": [
       "7"
      ]
     },
     "execution_count": 138,
     "metadata": {},
     "output_type": "execute_result"
    }
   ],
   "source": [
    "len(list)"
   ]
  },
  {
   "cell_type": "markdown",
   "id": "aa098dba",
   "metadata": {},
   "source": [
    "## Indexing list"
   ]
  },
  {
   "cell_type": "code",
   "execution_count": 139,
   "id": "3fd584fd",
   "metadata": {},
   "outputs": [
    {
     "data": {
      "text/plain": [
       "4"
      ]
     },
     "execution_count": 139,
     "metadata": {},
     "output_type": "execute_result"
    }
   ],
   "source": [
    "list.index(1)"
   ]
  },
  {
   "cell_type": "code",
   "execution_count": 140,
   "id": "47d17ddc",
   "metadata": {},
   "outputs": [
    {
     "data": {
      "text/plain": [
       "'Mayank'"
      ]
     },
     "execution_count": 140,
     "metadata": {},
     "output_type": "execute_result"
    }
   ],
   "source": [
    "list[1]\n",
    "list[0]"
   ]
  },
  {
   "cell_type": "code",
   "execution_count": 143,
   "id": "23479061",
   "metadata": {},
   "outputs": [
    {
     "data": {
      "text/plain": [
       "['Singla', 'Megha', 'Sharma']"
      ]
     },
     "execution_count": 143,
     "metadata": {},
     "output_type": "execute_result"
    }
   ],
   "source": [
    "list[1:4]"
   ]
  },
  {
   "cell_type": "markdown",
   "id": "03566991",
   "metadata": {},
   "source": [
    "## Appending list"
   ]
  },
  {
   "cell_type": "code",
   "execution_count": 141,
   "id": "ed30aafc",
   "metadata": {},
   "outputs": [],
   "source": [
    "list.append('Mayank') \n",
    "## append is used to add more items inside the list at the end"
   ]
  },
  {
   "cell_type": "code",
   "execution_count": 142,
   "id": "045bb400",
   "metadata": {},
   "outputs": [
    {
     "data": {
      "text/plain": [
       "['Mayank', 'Singla', 'Megha', 'Sharma', 1, 2, 3, 'Mayank']"
      ]
     },
     "execution_count": 142,
     "metadata": {},
     "output_type": "execute_result"
    }
   ],
   "source": [
    "list"
   ]
  },
  {
   "cell_type": "code",
   "execution_count": 145,
   "id": "712bc1a5",
   "metadata": {},
   "outputs": [],
   "source": [
    "list.append([\"Rahul\",\"Subramaninan\"])"
   ]
  },
  {
   "cell_type": "code",
   "execution_count": 146,
   "id": "ef1d3e89",
   "metadata": {},
   "outputs": [
    {
     "data": {
      "text/plain": [
       "['Mayank',\n",
       " 'Singla',\n",
       " 'Megha',\n",
       " 'Sharma',\n",
       " 1,\n",
       " 2,\n",
       " 3,\n",
       " 'Mayank',\n",
       " ['Rahul', 'Subramaninan']]"
      ]
     },
     "execution_count": 146,
     "metadata": {},
     "output_type": "execute_result"
    }
   ],
   "source": [
    "list"
   ]
  },
  {
   "cell_type": "markdown",
   "id": "869a70d8",
   "metadata": {},
   "source": [
    "## Insert"
   ]
  },
  {
   "cell_type": "code",
   "execution_count": 147,
   "id": "a80c07fa",
   "metadata": {},
   "outputs": [],
   "source": [
    "## insert the item at a specific index of the list\n",
    "\n",
    "list.insert(3,\"Singla\")"
   ]
  },
  {
   "cell_type": "code",
   "execution_count": 148,
   "id": "c8369ef5",
   "metadata": {},
   "outputs": [
    {
     "data": {
      "text/plain": [
       "['Mayank',\n",
       " 'Singla',\n",
       " 'Megha',\n",
       " 'Singla',\n",
       " 'Sharma',\n",
       " 1,\n",
       " 2,\n",
       " 3,\n",
       " 'Mayank',\n",
       " ['Rahul', 'Subramaninan']]"
      ]
     },
     "execution_count": 148,
     "metadata": {},
     "output_type": "execute_result"
    }
   ],
   "source": [
    "list"
   ]
  },
  {
   "cell_type": "code",
   "execution_count": 153,
   "id": "de7b8eae",
   "metadata": {},
   "outputs": [],
   "source": [
    "list.append([2,1])"
   ]
  },
  {
   "cell_type": "markdown",
   "id": "8f74c222",
   "metadata": {},
   "source": [
    "## Extend"
   ]
  },
  {
   "cell_type": "code",
   "execution_count": 160,
   "id": "0d738b00",
   "metadata": {},
   "outputs": [],
   "source": [
    "list = [1,2,3,4] "
   ]
  },
  {
   "cell_type": "code",
   "execution_count": 161,
   "id": "661091d8",
   "metadata": {},
   "outputs": [
    {
     "data": {
      "text/plain": [
       "[1, 2, 3, 4]"
      ]
     },
     "execution_count": 161,
     "metadata": {},
     "output_type": "execute_result"
    }
   ],
   "source": [
    "list"
   ]
  },
  {
   "cell_type": "code",
   "execution_count": 162,
   "id": "7098d83b",
   "metadata": {},
   "outputs": [],
   "source": [
    "list.insert(4,5)"
   ]
  },
  {
   "cell_type": "code",
   "execution_count": 163,
   "id": "ba2bbd38",
   "metadata": {},
   "outputs": [
    {
     "data": {
      "text/plain": [
       "[1, 2, 3, 4, 5]"
      ]
     },
     "execution_count": 163,
     "metadata": {},
     "output_type": "execute_result"
    }
   ],
   "source": [
    "list"
   ]
  },
  {
   "cell_type": "code",
   "execution_count": 164,
   "id": "c16f517a",
   "metadata": {},
   "outputs": [],
   "source": [
    "list.append([6,7])"
   ]
  },
  {
   "cell_type": "code",
   "execution_count": 165,
   "id": "c0971356",
   "metadata": {},
   "outputs": [
    {
     "data": {
      "text/plain": [
       "[1, 2, 3, 4, 5, [6, 7]]"
      ]
     },
     "execution_count": 165,
     "metadata": {},
     "output_type": "execute_result"
    }
   ],
   "source": [
    "list"
   ]
  },
  {
   "cell_type": "code",
   "execution_count": 167,
   "id": "fdc0abe8",
   "metadata": {},
   "outputs": [],
   "source": [
    "list.extend([8,9])"
   ]
  },
  {
   "cell_type": "code",
   "execution_count": 168,
   "id": "5174964c",
   "metadata": {},
   "outputs": [
    {
     "data": {
      "text/plain": [
       "[1, 2, 3, 4, 5, [6, 7], 8, 9]"
      ]
     },
     "execution_count": 168,
     "metadata": {},
     "output_type": "execute_result"
    }
   ],
   "source": [
    "list"
   ]
  },
  {
   "cell_type": "markdown",
   "id": "574545a8",
   "metadata": {},
   "source": [
    "### Operations in list"
   ]
  },
  {
   "cell_type": "code",
   "execution_count": 184,
   "id": "e93750fd",
   "metadata": {},
   "outputs": [],
   "source": [
    "list=[1,2,3,4]"
   ]
  },
  {
   "cell_type": "code",
   "execution_count": 185,
   "id": "92f364ac",
   "metadata": {},
   "outputs": [
    {
     "data": {
      "text/plain": [
       "4"
      ]
     },
     "execution_count": 185,
     "metadata": {},
     "output_type": "execute_result"
    }
   ],
   "source": [
    "len(list)"
   ]
  },
  {
   "cell_type": "code",
   "execution_count": 186,
   "id": "e60b957f",
   "metadata": {},
   "outputs": [
    {
     "data": {
      "text/plain": [
       "10"
      ]
     },
     "execution_count": 186,
     "metadata": {},
     "output_type": "execute_result"
    }
   ],
   "source": [
    "sum(list)"
   ]
  },
  {
   "cell_type": "code",
   "execution_count": 208,
   "id": "89d7f0ab",
   "metadata": {},
   "outputs": [
    {
     "data": {
      "text/plain": [
       "[1, 2, 3, 4, 5, 6, 7, 7, 1, 2, 3, 4, 5, 6, 7, 7]"
      ]
     },
     "execution_count": 208,
     "metadata": {},
     "output_type": "execute_result"
    }
   ],
   "source": [
    "list*2"
   ]
  },
  {
   "cell_type": "code",
   "execution_count": 187,
   "id": "c014c9c0",
   "metadata": {},
   "outputs": [],
   "source": [
    "list.append(\"mayank\")"
   ]
  },
  {
   "cell_type": "code",
   "execution_count": 188,
   "id": "b94c29c1",
   "metadata": {},
   "outputs": [
    {
     "data": {
      "text/plain": [
       "[1, 2, 3, 4, 'mayank']"
      ]
     },
     "execution_count": 188,
     "metadata": {},
     "output_type": "execute_result"
    }
   ],
   "source": [
    "list"
   ]
  },
  {
   "cell_type": "code",
   "execution_count": 189,
   "id": "0e1a9668",
   "metadata": {},
   "outputs": [
    {
     "data": {
      "text/plain": [
       "5"
      ]
     },
     "execution_count": 189,
     "metadata": {},
     "output_type": "execute_result"
    }
   ],
   "source": [
    "len(list)"
   ]
  },
  {
   "cell_type": "markdown",
   "id": "00f85077",
   "metadata": {},
   "source": [
    "### Pop"
   ]
  },
  {
   "cell_type": "code",
   "execution_count": 190,
   "id": "ee835b0e",
   "metadata": {},
   "outputs": [
    {
     "data": {
      "text/plain": [
       "'mayank'"
      ]
     },
     "execution_count": 190,
     "metadata": {},
     "output_type": "execute_result"
    }
   ],
   "source": [
    "list.pop() # remove last item of list"
   ]
  },
  {
   "cell_type": "code",
   "execution_count": 191,
   "id": "3abaa597",
   "metadata": {},
   "outputs": [
    {
     "data": {
      "text/plain": [
       "[1, 2, 3, 4]"
      ]
     },
     "execution_count": 191,
     "metadata": {},
     "output_type": "execute_result"
    }
   ],
   "source": [
    "list"
   ]
  },
  {
   "cell_type": "code",
   "execution_count": 192,
   "id": "6df4c703",
   "metadata": {},
   "outputs": [
    {
     "data": {
      "text/plain": [
       "1"
      ]
     },
     "execution_count": 192,
     "metadata": {},
     "output_type": "execute_result"
    }
   ],
   "source": [
    "list.pop(0) # remove item at 0 index of the list"
   ]
  },
  {
   "cell_type": "code",
   "execution_count": 193,
   "id": "68e0e2f6",
   "metadata": {},
   "outputs": [
    {
     "data": {
      "text/plain": [
       "[2, 3, 4]"
      ]
     },
     "execution_count": 193,
     "metadata": {},
     "output_type": "execute_result"
    }
   ],
   "source": [
    "list"
   ]
  },
  {
   "cell_type": "markdown",
   "id": "28766db8",
   "metadata": {},
   "source": [
    "### Count"
   ]
  },
  {
   "cell_type": "code",
   "execution_count": 197,
   "id": "a0ded1f4",
   "metadata": {},
   "outputs": [
    {
     "data": {
      "text/plain": [
       "1"
      ]
     },
     "execution_count": 197,
     "metadata": {},
     "output_type": "execute_result"
    }
   ],
   "source": [
    "list = [1,2,3,4,5,6,7]\n",
    "list.count(2) # counts the number of ocurrences of an item in the list"
   ]
  },
  {
   "cell_type": "code",
   "execution_count": 199,
   "id": "1519acd1",
   "metadata": {},
   "outputs": [],
   "source": [
    "list.append(7)"
   ]
  },
  {
   "cell_type": "code",
   "execution_count": 200,
   "id": "9ff7815a",
   "metadata": {},
   "outputs": [
    {
     "data": {
      "text/plain": [
       "[1, 2, 3, 4, 5, 6, 7, 7]"
      ]
     },
     "execution_count": 200,
     "metadata": {},
     "output_type": "execute_result"
    }
   ],
   "source": [
    "list"
   ]
  },
  {
   "cell_type": "code",
   "execution_count": 201,
   "id": "7bdc714b",
   "metadata": {},
   "outputs": [
    {
     "data": {
      "text/plain": [
       "2"
      ]
     },
     "execution_count": 201,
     "metadata": {},
     "output_type": "execute_result"
    }
   ],
   "source": [
    "list.count(7)"
   ]
  },
  {
   "cell_type": "code",
   "execution_count": 202,
   "id": "97823456",
   "metadata": {},
   "outputs": [
    {
     "data": {
      "text/plain": [
       "8"
      ]
     },
     "execution_count": 202,
     "metadata": {},
     "output_type": "execute_result"
    }
   ],
   "source": [
    "len(list)"
   ]
  },
  {
   "cell_type": "code",
   "execution_count": 203,
   "id": "293656f3",
   "metadata": {},
   "outputs": [
    {
     "data": {
      "text/plain": [
       "6"
      ]
     },
     "execution_count": 203,
     "metadata": {},
     "output_type": "execute_result"
    }
   ],
   "source": [
    "list.index(7) # check the index of a particular item in the list"
   ]
  },
  {
   "cell_type": "code",
   "execution_count": 205,
   "id": "3952f5c3",
   "metadata": {},
   "outputs": [
    {
     "data": {
      "text/plain": [
       "6"
      ]
     },
     "execution_count": 205,
     "metadata": {},
     "output_type": "execute_result"
    }
   ],
   "source": [
    "list.index(7,0,7)"
   ]
  },
  {
   "cell_type": "code",
   "execution_count": 206,
   "id": "ebc47b24",
   "metadata": {},
   "outputs": [
    {
     "data": {
      "text/plain": [
       "1"
      ]
     },
     "execution_count": 206,
     "metadata": {},
     "output_type": "execute_result"
    }
   ],
   "source": [
    "#min and max of list\n",
    "min(list)"
   ]
  },
  {
   "cell_type": "code",
   "execution_count": 207,
   "id": "96e673e8",
   "metadata": {},
   "outputs": [
    {
     "data": {
      "text/plain": [
       "7"
      ]
     },
     "execution_count": 207,
     "metadata": {},
     "output_type": "execute_result"
    }
   ],
   "source": [
    "max(list)"
   ]
  },
  {
   "cell_type": "markdown",
   "id": "9c4b7d2f",
   "metadata": {},
   "source": [
    "# Sets - No duplicate values"
   ]
  },
  {
   "cell_type": "code",
   "execution_count": 209,
   "id": "2eafcc4b",
   "metadata": {},
   "outputs": [],
   "source": [
    "set = set()"
   ]
  },
  {
   "cell_type": "code",
   "execution_count": 210,
   "id": "bdf43625",
   "metadata": {},
   "outputs": [
    {
     "data": {
      "text/plain": [
       "set"
      ]
     },
     "execution_count": 210,
     "metadata": {},
     "output_type": "execute_result"
    }
   ],
   "source": [
    "type(set)"
   ]
  },
  {
   "cell_type": "code",
   "execution_count": 211,
   "id": "3e21241c",
   "metadata": {},
   "outputs": [
    {
     "name": "stdout",
     "output_type": "stream",
     "text": [
      "set()\n"
     ]
    }
   ],
   "source": [
    "print(set)"
   ]
  },
  {
   "cell_type": "code",
   "execution_count": 212,
   "id": "e68318b1",
   "metadata": {},
   "outputs": [
    {
     "name": "stdout",
     "output_type": "stream",
     "text": [
      "<class 'set'>\n"
     ]
    }
   ],
   "source": [
    "print(type(set))"
   ]
  },
  {
   "cell_type": "code",
   "execution_count": 214,
   "id": "9e703d16",
   "metadata": {},
   "outputs": [],
   "source": [
    "set = {1,2,3,4,4}"
   ]
  },
  {
   "cell_type": "code",
   "execution_count": 215,
   "id": "b2ab0a63",
   "metadata": {},
   "outputs": [
    {
     "data": {
      "text/plain": [
       "{1, 2, 3, 4}"
      ]
     },
     "execution_count": 215,
     "metadata": {},
     "output_type": "execute_result"
    }
   ],
   "source": [
    "set"
   ]
  },
  {
   "cell_type": "code",
   "execution_count": 262,
   "id": "283fa252",
   "metadata": {},
   "outputs": [],
   "source": [
    "set = {\"ironman\",\"hitman\",\"batman\"}"
   ]
  },
  {
   "cell_type": "code",
   "execution_count": 263,
   "id": "e91a348c",
   "metadata": {},
   "outputs": [
    {
     "data": {
      "text/plain": [
       "set"
      ]
     },
     "execution_count": 263,
     "metadata": {},
     "output_type": "execute_result"
    }
   ],
   "source": [
    "type(set)"
   ]
  },
  {
   "cell_type": "code",
   "execution_count": 264,
   "id": "8c61307a",
   "metadata": {},
   "outputs": [
    {
     "name": "stdout",
     "output_type": "stream",
     "text": [
      "{'ironman', 'batman', 'hitman'}\n"
     ]
    }
   ],
   "source": [
    "print(set)"
   ]
  },
  {
   "cell_type": "code",
   "execution_count": 265,
   "id": "ab07cc34",
   "metadata": {},
   "outputs": [],
   "source": [
    "set.add(\"hulk\")"
   ]
  },
  {
   "cell_type": "code",
   "execution_count": 266,
   "id": "d3b91b1c",
   "metadata": {},
   "outputs": [
    {
     "data": {
      "text/plain": [
       "{'batman', 'hitman', 'hulk', 'ironman'}"
      ]
     },
     "execution_count": 266,
     "metadata": {},
     "output_type": "execute_result"
    }
   ],
   "source": [
    "set"
   ]
  },
  {
   "cell_type": "code",
   "execution_count": 267,
   "id": "b04a6d8e",
   "metadata": {},
   "outputs": [],
   "source": [
    "set_2 = {'ironman','hitman','batman'}"
   ]
  },
  {
   "cell_type": "code",
   "execution_count": 270,
   "id": "750b6a77",
   "metadata": {},
   "outputs": [
    {
     "data": {
      "text/plain": [
       "{'batman', 'hitman', 'ironman'}"
      ]
     },
     "execution_count": 270,
     "metadata": {},
     "output_type": "execute_result"
    }
   ],
   "source": [
    "set_2.intersection(set)"
   ]
  },
  {
   "cell_type": "code",
   "execution_count": null,
   "id": "6be234f1",
   "metadata": {},
   "outputs": [],
   "source": [
    "set.difference(set_2)"
   ]
  },
  {
   "cell_type": "code",
   "execution_count": 255,
   "id": "63d1ecac",
   "metadata": {},
   "outputs": [],
   "source": [
    "set.difference_update(set_2)"
   ]
  },
  {
   "cell_type": "code",
   "execution_count": 256,
   "id": "423284d6",
   "metadata": {},
   "outputs": [
    {
     "data": {
      "text/plain": [
       "{'batman', 'hitman', 'ironman'}"
      ]
     },
     "execution_count": 256,
     "metadata": {},
     "output_type": "execute_result"
    }
   ],
   "source": [
    "set_2"
   ]
  },
  {
   "cell_type": "code",
   "execution_count": 257,
   "id": "b0688c25",
   "metadata": {},
   "outputs": [
    {
     "data": {
      "text/plain": [
       "{'hulk'}"
      ]
     },
     "execution_count": 257,
     "metadata": {},
     "output_type": "execute_result"
    }
   ],
   "source": [
    "set"
   ]
  },
  {
   "cell_type": "markdown",
   "id": "c01e9230",
   "metadata": {},
   "source": [
    "## Dictionaries"
   ]
  },
  {
   "cell_type": "code",
   "execution_count": 283,
   "id": "5c0e9ea6",
   "metadata": {},
   "outputs": [],
   "source": [
    "dic ={} # has key value pair"
   ]
  },
  {
   "cell_type": "code",
   "execution_count": 284,
   "id": "d862bff6",
   "metadata": {},
   "outputs": [
    {
     "data": {
      "text/plain": [
       "dict"
      ]
     },
     "execution_count": 284,
     "metadata": {},
     "output_type": "execute_result"
    }
   ],
   "source": [
    "type(dic)"
   ]
  },
  {
   "cell_type": "code",
   "execution_count": 281,
   "id": "134148fc",
   "metadata": {},
   "outputs": [
    {
     "data": {
      "text/plain": [
       "dict"
      ]
     },
     "execution_count": 281,
     "metadata": {},
     "output_type": "execute_result"
    }
   ],
   "source": [
    "type(dict())"
   ]
  },
  {
   "cell_type": "code",
   "execution_count": 274,
   "id": "2a7e2016",
   "metadata": {},
   "outputs": [],
   "source": [
    "dic = {1,2,3,4}"
   ]
  },
  {
   "cell_type": "code",
   "execution_count": 275,
   "id": "59f43b31",
   "metadata": {},
   "outputs": [
    {
     "data": {
      "text/plain": [
       "{1, 2, 3, 4}"
      ]
     },
     "execution_count": 275,
     "metadata": {},
     "output_type": "execute_result"
    }
   ],
   "source": [
    "dic"
   ]
  },
  {
   "cell_type": "code",
   "execution_count": 276,
   "id": "cb79ed0a",
   "metadata": {},
   "outputs": [
    {
     "data": {
      "text/plain": [
       "set"
      ]
     },
     "execution_count": 276,
     "metadata": {},
     "output_type": "execute_result"
    }
   ],
   "source": [
    "type(dic)"
   ]
  },
  {
   "cell_type": "code",
   "execution_count": 291,
   "id": "d2e8b15f",
   "metadata": {},
   "outputs": [],
   "source": [
    "dic = {\"Car1\":\"Audi\",'Car2':\"honda\",'Car3':\"Mercedez\"}"
   ]
  },
  {
   "cell_type": "code",
   "execution_count": 292,
   "id": "a227fb08",
   "metadata": {},
   "outputs": [
    {
     "data": {
      "text/plain": [
       "dict"
      ]
     },
     "execution_count": 292,
     "metadata": {},
     "output_type": "execute_result"
    }
   ],
   "source": [
    "type(dic)"
   ]
  },
  {
   "cell_type": "code",
   "execution_count": 293,
   "id": "bf32b0b9",
   "metadata": {},
   "outputs": [
    {
     "data": {
      "text/plain": [
       "{'Car1': 'Audi', 'Car2': 'honda', 'Car3': 'Mercedez'}"
      ]
     },
     "execution_count": 293,
     "metadata": {},
     "output_type": "execute_result"
    }
   ],
   "source": [
    "dic"
   ]
  },
  {
   "cell_type": "code",
   "execution_count": 294,
   "id": "86b86d30",
   "metadata": {},
   "outputs": [
    {
     "data": {
      "text/plain": [
       "'Audi'"
      ]
     },
     "execution_count": 294,
     "metadata": {},
     "output_type": "execute_result"
    }
   ],
   "source": [
    "dic['Car1']"
   ]
  },
  {
   "cell_type": "code",
   "execution_count": 296,
   "id": "387cd7dd",
   "metadata": {},
   "outputs": [
    {
     "name": "stdout",
     "output_type": "stream",
     "text": [
      "Car1\n",
      "Car2\n",
      "Car3\n"
     ]
    }
   ],
   "source": [
    "# for loop iterates the keys in the dictionary\n",
    "for x in dic:\n",
    "   print(x)"
   ]
  },
  {
   "cell_type": "code",
   "execution_count": 297,
   "id": "af113930",
   "metadata": {},
   "outputs": [
    {
     "name": "stdout",
     "output_type": "stream",
     "text": [
      "Audi\n",
      "honda\n",
      "Mercedez\n"
     ]
    }
   ],
   "source": [
    "# for loop to iterate the values in dictionary\n",
    "for x in dic.values():\n",
    "    print(x)"
   ]
  },
  {
   "cell_type": "code",
   "execution_count": 299,
   "id": "03d318d8",
   "metadata": {},
   "outputs": [
    {
     "name": "stdout",
     "output_type": "stream",
     "text": [
      "('Car1', 'Audi')\n",
      "('Car2', 'honda')\n",
      "('Car3', 'Mercedez')\n"
     ]
    }
   ],
   "source": [
    "# for loop to iterate both keys and values in dictionary\n",
    "for x in dic.items():\n",
    "    print(x)"
   ]
  },
  {
   "cell_type": "markdown",
   "id": "2e04b1d8",
   "metadata": {},
   "source": [
    "# ADD ITEMS"
   ]
  },
  {
   "cell_type": "code",
   "execution_count": 300,
   "id": "133ccaa7",
   "metadata": {},
   "outputs": [],
   "source": [
    "dic['Car4'] = 'BMW'"
   ]
  },
  {
   "cell_type": "code",
   "execution_count": 301,
   "id": "bc62dc5e",
   "metadata": {},
   "outputs": [
    {
     "data": {
      "text/plain": [
       "{'Car1': 'Audi', 'Car2': 'honda', 'Car3': 'Mercedez', 'Car4': 'BMW'}"
      ]
     },
     "execution_count": 301,
     "metadata": {},
     "output_type": "execute_result"
    }
   ],
   "source": [
    "dic"
   ]
  },
  {
   "cell_type": "markdown",
   "id": "9e979067",
   "metadata": {},
   "source": [
    "# Update Dictionary"
   ]
  },
  {
   "cell_type": "code",
   "execution_count": 302,
   "id": "2ba11850",
   "metadata": {},
   "outputs": [],
   "source": [
    "dic[\"CAR1\"]='Suzuki'"
   ]
  },
  {
   "cell_type": "code",
   "execution_count": 303,
   "id": "510d153a",
   "metadata": {},
   "outputs": [
    {
     "data": {
      "text/plain": [
       "{'Car1': 'Audi',\n",
       " 'Car2': 'honda',\n",
       " 'Car3': 'Mercedez',\n",
       " 'Car4': 'BMW',\n",
       " 'CAR1': 'Suzuki'}"
      ]
     },
     "execution_count": 303,
     "metadata": {},
     "output_type": "execute_result"
    }
   ],
   "source": [
    "dic"
   ]
  },
  {
   "cell_type": "code",
   "execution_count": 305,
   "id": "25647e2c",
   "metadata": {},
   "outputs": [
    {
     "data": {
      "text/plain": [
       "('CAR1', 'Suzuki')"
      ]
     },
     "execution_count": 305,
     "metadata": {},
     "output_type": "execute_result"
    }
   ],
   "source": [
    "dic.popitem()"
   ]
  },
  {
   "cell_type": "code",
   "execution_count": 306,
   "id": "86dc0598",
   "metadata": {},
   "outputs": [
    {
     "data": {
      "text/plain": [
       "{'Car1': 'Audi', 'Car2': 'honda', 'Car3': 'Mercedez', 'Car4': 'BMW'}"
      ]
     },
     "execution_count": 306,
     "metadata": {},
     "output_type": "execute_result"
    }
   ],
   "source": [
    "dic"
   ]
  },
  {
   "cell_type": "code",
   "execution_count": 308,
   "id": "d7cf3f5d",
   "metadata": {},
   "outputs": [],
   "source": [
    "dic['Car1']='Suzuki'"
   ]
  },
  {
   "cell_type": "code",
   "execution_count": 309,
   "id": "a2d2dc04",
   "metadata": {},
   "outputs": [
    {
     "data": {
      "text/plain": [
       "{'Car1': 'Suzuki', 'Car2': 'honda', 'Car3': 'Mercedez', 'Car4': 'BMW'}"
      ]
     },
     "execution_count": 309,
     "metadata": {},
     "output_type": "execute_result"
    }
   ],
   "source": [
    "dic"
   ]
  },
  {
   "cell_type": "markdown",
   "id": "aa7b9d8f",
   "metadata": {},
   "source": [
    "# Nested Dictionary"
   ]
  },
  {
   "cell_type": "code",
   "execution_count": 316,
   "id": "c798d01e",
   "metadata": {},
   "outputs": [],
   "source": [
    "car1_model = {'Mercedez':1990}\n",
    "car2_model = {'Honda':1991}\n",
    "car3_model = {'Suzuki':1998}\n",
    "car_type = {'Car1':car1_model,\"Car2\":car2_model,\"Car3\":car3_model}"
   ]
  },
  {
   "cell_type": "raw",
   "id": "767a4943",
   "metadata": {},
   "source": [
    "type(car_type)"
   ]
  },
  {
   "cell_type": "code",
   "execution_count": 317,
   "id": "55a54970",
   "metadata": {},
   "outputs": [
    {
     "data": {
      "text/plain": [
       "{'Car1': {'Mercedez': 1990}, 'Car2': {'Honda': 1991}, 'Car3': {'Suzuki': 1998}}"
      ]
     },
     "execution_count": 317,
     "metadata": {},
     "output_type": "execute_result"
    }
   ],
   "source": [
    "car_type"
   ]
  },
  {
   "cell_type": "code",
   "execution_count": 319,
   "id": "4310256c",
   "metadata": {},
   "outputs": [
    {
     "name": "stdout",
     "output_type": "stream",
     "text": [
      "{'Mercedez': 1990}\n"
     ]
    }
   ],
   "source": [
    "print(car_type['Car1'])"
   ]
  },
  {
   "cell_type": "code",
   "execution_count": 320,
   "id": "92f9d3c9",
   "metadata": {},
   "outputs": [
    {
     "name": "stdout",
     "output_type": "stream",
     "text": [
      "1990\n"
     ]
    }
   ],
   "source": [
    "print(car_type['Car1']['Mercedez'])"
   ]
  },
  {
   "cell_type": "markdown",
   "id": "ed3c165d",
   "metadata": {},
   "source": [
    "## Tuples"
   ]
  },
  {
   "cell_type": "code",
   "execution_count": 321,
   "id": "a15edd68",
   "metadata": {},
   "outputs": [],
   "source": [
    "tup = tuple()"
   ]
  },
  {
   "cell_type": "code",
   "execution_count": 322,
   "id": "f417bf8a",
   "metadata": {},
   "outputs": [
    {
     "data": {
      "text/plain": [
       "tuple"
      ]
     },
     "execution_count": 322,
     "metadata": {},
     "output_type": "execute_result"
    }
   ],
   "source": [
    "type(tup)"
   ]
  },
  {
   "cell_type": "code",
   "execution_count": 324,
   "id": "4bffbee5",
   "metadata": {},
   "outputs": [],
   "source": [
    "tup = ('Krish','Mayank','Rahul')"
   ]
  },
  {
   "cell_type": "code",
   "execution_count": 325,
   "id": "a7545f69",
   "metadata": {},
   "outputs": [
    {
     "data": {
      "text/plain": [
       "tuple"
      ]
     },
     "execution_count": 325,
     "metadata": {},
     "output_type": "execute_result"
    }
   ],
   "source": [
    "type(tup)"
   ]
  },
  {
   "cell_type": "code",
   "execution_count": 327,
   "id": "6f67a370",
   "metadata": {},
   "outputs": [
    {
     "data": {
      "text/plain": [
       "'Krish'"
      ]
     },
     "execution_count": 327,
     "metadata": {},
     "output_type": "execute_result"
    }
   ],
   "source": [
    "tup[0]"
   ]
  },
  {
   "cell_type": "code",
   "execution_count": null,
   "id": "6c408c11",
   "metadata": {},
   "outputs": [],
   "source": []
  }
 ],
 "metadata": {
  "kernelspec": {
   "display_name": "Python 3 (ipykernel)",
   "language": "python",
   "name": "python3"
  },
  "language_info": {
   "codemirror_mode": {
    "name": "ipython",
    "version": 3
   },
   "file_extension": ".py",
   "mimetype": "text/x-python",
   "name": "python",
   "nbconvert_exporter": "python",
   "pygments_lexer": "ipython3",
   "version": "3.11.4"
  }
 },
 "nbformat": 4,
 "nbformat_minor": 5
}
